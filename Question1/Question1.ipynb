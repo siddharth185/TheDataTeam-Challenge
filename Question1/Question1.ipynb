{
 "cells": [
  {
   "cell_type": "code",
   "execution_count": 36,
   "metadata": {
    "collapsed": false
   },
   "outputs": [],
   "source": [
    "import pandas as pd\n",
    "import numpy as np\n",
    "import matplotlib as plt\n",
    "import sklearn.tree\n",
    "from sklearn.tree import DecisionTreeClassifier, export_graphviz\n",
    "import graphviz\n",
    "%matplotlib inline\n",
    "#Standard Imports"
   ]
  },
  {
   "cell_type": "code",
   "execution_count": 4,
   "metadata": {
    "collapsed": false
   },
   "outputs": [
    {
     "data": {
      "text/html": [
       "<div>\n",
       "<table border=\"1\" class=\"dataframe\">\n",
       "  <thead>\n",
       "    <tr style=\"text-align: right;\">\n",
       "      <th></th>\n",
       "      <th>Length</th>\n",
       "      <th>Vehicle</th>\n",
       "    </tr>\n",
       "  </thead>\n",
       "  <tbody>\n",
       "    <tr>\n",
       "      <th>0</th>\n",
       "      <td>0.00</td>\n",
       "      <td>-</td>\n",
       "    </tr>\n",
       "    <tr>\n",
       "      <th>1</th>\n",
       "      <td>-0.05</td>\n",
       "      <td>-</td>\n",
       "    </tr>\n",
       "    <tr>\n",
       "      <th>2</th>\n",
       "      <td>0.10</td>\n",
       "      <td>-</td>\n",
       "    </tr>\n",
       "    <tr>\n",
       "      <th>3</th>\n",
       "      <td>0.50</td>\n",
       "      <td>Motorbike</td>\n",
       "    </tr>\n",
       "    <tr>\n",
       "      <th>4</th>\n",
       "      <td>0.40</td>\n",
       "      <td>Motorbike</td>\n",
       "    </tr>\n",
       "    <tr>\n",
       "      <th>5</th>\n",
       "      <td>0.00</td>\n",
       "      <td>-</td>\n",
       "    </tr>\n",
       "    <tr>\n",
       "      <th>6</th>\n",
       "      <td>1.50</td>\n",
       "      <td>Bus</td>\n",
       "    </tr>\n",
       "    <tr>\n",
       "      <th>7</th>\n",
       "      <td>1.55</td>\n",
       "      <td>Bus</td>\n",
       "    </tr>\n",
       "    <tr>\n",
       "      <th>8</th>\n",
       "      <td>1.29</td>\n",
       "      <td>Bus</td>\n",
       "    </tr>\n",
       "    <tr>\n",
       "      <th>9</th>\n",
       "      <td>1.62</td>\n",
       "      <td>Bus</td>\n",
       "    </tr>\n",
       "    <tr>\n",
       "      <th>10</th>\n",
       "      <td>-0.09</td>\n",
       "      <td>-</td>\n",
       "    </tr>\n",
       "    <tr>\n",
       "      <th>11</th>\n",
       "      <td>-0.01</td>\n",
       "      <td>-</td>\n",
       "    </tr>\n",
       "    <tr>\n",
       "      <th>12</th>\n",
       "      <td>5.50</td>\n",
       "      <td>Car</td>\n",
       "    </tr>\n",
       "    <tr>\n",
       "      <th>13</th>\n",
       "      <td>5.66</td>\n",
       "      <td>Car</td>\n",
       "    </tr>\n",
       "    <tr>\n",
       "      <th>14</th>\n",
       "      <td>4.58</td>\n",
       "      <td>Car</td>\n",
       "    </tr>\n",
       "    <tr>\n",
       "      <th>15</th>\n",
       "      <td>0.30</td>\n",
       "      <td>-</td>\n",
       "    </tr>\n",
       "    <tr>\n",
       "      <th>16</th>\n",
       "      <td>0.20</td>\n",
       "      <td>-</td>\n",
       "    </tr>\n",
       "  </tbody>\n",
       "</table>\n",
       "</div>"
      ],
      "text/plain": [
       "    Length     Vehicle\n",
       "0     0.00           -\n",
       "1    -0.05           -\n",
       "2     0.10           -\n",
       "3     0.50   Motorbike\n",
       "4     0.40   Motorbike\n",
       "5     0.00           -\n",
       "6     1.50         Bus\n",
       "7     1.55         Bus\n",
       "8     1.29         Bus\n",
       "9     1.62         Bus\n",
       "10   -0.09           -\n",
       "11   -0.01           -\n",
       "12    5.50         Car\n",
       "13    5.66         Car\n",
       "14    4.58         Car\n",
       "15    0.30           -\n",
       "16    0.20           -"
      ]
     },
     "execution_count": 4,
     "metadata": {},
     "output_type": "execute_result"
    }
   ],
   "source": [
    "#Read the csv\n",
    "df = pd.read_csv(\"Vehicle.csv\")\n",
    "df"
   ]
  },
  {
   "cell_type": "code",
   "execution_count": 5,
   "metadata": {
    "collapsed": true
   },
   "outputs": [],
   "source": [
    "#Input and Output Features\n",
    "x_train = df['Length'].values\n",
    "y_train = df['Vehicle'].values"
   ]
  },
  {
   "cell_type": "code",
   "execution_count": 11,
   "metadata": {
    "collapsed": false
   },
   "outputs": [
    {
     "data": {
      "text/plain": [
       "DecisionTreeClassifier(class_weight=None, criterion='gini', max_depth=5,\n",
       "            max_features=None, max_leaf_nodes=None, min_samples_leaf=1,\n",
       "            min_samples_split=2, min_weight_fraction_leaf=0.0,\n",
       "            presort=False, random_state=None, splitter='best')"
      ]
     },
     "execution_count": 11,
     "metadata": {},
     "output_type": "execute_result"
    }
   ],
   "source": [
    "#Create and fit model\n",
    "model = sklearn.tree.DecisionTreeClassifier(max_depth = 5)\n",
    "model.fit(x_train.reshape(-1,1),y_train)"
   ]
  },
  {
   "cell_type": "code",
   "execution_count": 41,
   "metadata": {
    "collapsed": false
   },
   "outputs": [
    {
     "data": {
      "text/plain": [
       "array([' -'], dtype=object)"
      ]
     },
     "execution_count": 41,
     "metadata": {},
     "output_type": "execute_result"
    }
   ],
   "source": [
    "model.predict(0)\n"
   ]
  },
  {
   "cell_type": "code",
   "execution_count": 26,
   "metadata": {
    "collapsed": false
   },
   "outputs": [
    {
     "name": "stdout",
     "output_type": "stream",
     "text": [
      "3.54252588403 [' Car']\n",
      "1.03245779693 [' Bus']\n",
      "0.780463146327 [' Motorbike']\n",
      "4.83809068914 [' Car']\n",
      "5.6829096391 [' Car']\n",
      "1.2882600234 [' Bus']\n",
      "4.17271565855 [' Car']\n",
      "3.23510740592 [' Car']\n",
      "5.63957506423 [' Car']\n",
      "2.08610101625 [' Bus']\n",
      "4.28290701142 [' Car']\n",
      "4.3761199744 [' Car']\n",
      "1.64229944309 [' Bus']\n",
      "2.05203973362 [' Bus']\n",
      "3.08873199763 [' Bus']\n"
     ]
    }
   ],
   "source": [
    "#Predictions\n",
    "sample = np.random.uniform(low=0, high=6, size=(15,))\n",
    "for i in sample:\n",
    "    print i,model.predict(i)"
   ]
  },
  {
   "cell_type": "code",
   "execution_count": 38,
   "metadata": {
    "collapsed": false
   },
   "outputs": [],
   "source": [
    "#Visualize the tree\n",
    "dot_file = export_graphviz(model.tree_, out_file='tree_d1.dot', feature_names = \"Length\")"
   ]
  },
  {
   "cell_type": "code",
   "execution_count": 39,
   "metadata": {
    "collapsed": false
   },
   "outputs": [
    {
     "data": {
      "image/svg+xml": [
       "<?xml version=\"1.0\" encoding=\"UTF-8\" standalone=\"no\"?>\n",
       "<!DOCTYPE svg PUBLIC \"-//W3C//DTD SVG 1.1//EN\"\n",
       " \"http://www.w3.org/Graphics/SVG/1.1/DTD/svg11.dtd\">\n",
       "<!-- Generated by graphviz version 2.36.0 (20140111.2315)\n",
       " -->\n",
       "<!-- Title: Tree Pages: 1 -->\n",
       "<svg width=\"335pt\" height=\"374pt\"\n",
       " viewBox=\"0.00 0.00 335.00 374.00\" xmlns=\"http://www.w3.org/2000/svg\" xmlns:xlink=\"http://www.w3.org/1999/xlink\">\n",
       "<g id=\"graph0\" class=\"graph\" transform=\"scale(1 1) rotate(0) translate(4 370)\">\n",
       "<title>Tree</title>\n",
       "<polygon fill=\"white\" stroke=\"none\" points=\"-4,4 -4,-370 331,-370 331,4 -4,4\"/>\n",
       "<!-- 0 -->\n",
       "<g id=\"node1\" class=\"node\"><title>0</title>\n",
       "<polygon fill=\"none\" stroke=\"black\" points=\"188.5,-366 69.5,-366 69.5,-298 188.5,-298 188.5,-366\"/>\n",
       "<text text-anchor=\"middle\" x=\"129\" y=\"-350.8\" font-family=\"Times,serif\" font-size=\"14.00\">L &lt;= 0.35</text>\n",
       "<text text-anchor=\"middle\" x=\"129\" y=\"-335.8\" font-family=\"Times,serif\" font-size=\"14.00\">impurity = 0.6782</text>\n",
       "<text text-anchor=\"middle\" x=\"129\" y=\"-320.8\" font-family=\"Times,serif\" font-size=\"14.00\">samples = 17</text>\n",
       "<text text-anchor=\"middle\" x=\"129\" y=\"-305.8\" font-family=\"Times,serif\" font-size=\"14.00\">value = [8, 4, 3, 2]</text>\n",
       "</g>\n",
       "<!-- 1 -->\n",
       "<g id=\"node2\" class=\"node\"><title>1</title>\n",
       "<polygon fill=\"none\" stroke=\"black\" points=\"119.5,-254.5 0.5,-254.5 0.5,-201.5 119.5,-201.5 119.5,-254.5\"/>\n",
       "<text text-anchor=\"middle\" x=\"60\" y=\"-239.3\" font-family=\"Times,serif\" font-size=\"14.00\">impurity = 0.0</text>\n",
       "<text text-anchor=\"middle\" x=\"60\" y=\"-224.3\" font-family=\"Times,serif\" font-size=\"14.00\">samples = 8</text>\n",
       "<text text-anchor=\"middle\" x=\"60\" y=\"-209.3\" font-family=\"Times,serif\" font-size=\"14.00\">value = [8, 0, 0, 0]</text>\n",
       "</g>\n",
       "<!-- 0&#45;&gt;1 -->\n",
       "<g id=\"edge1\" class=\"edge\"><title>0&#45;&gt;1</title>\n",
       "<path fill=\"none\" stroke=\"black\" d=\"M106.598,-297.884C99.0091,-286.666 90.5265,-274.126 82.8998,-262.852\"/>\n",
       "<polygon fill=\"black\" stroke=\"black\" points=\"85.7656,-260.842 77.2635,-254.52 79.9676,-264.764 85.7656,-260.842\"/>\n",
       "<text text-anchor=\"middle\" x=\"72.5263\" y=\"-275.367\" font-family=\"Times,serif\" font-size=\"14.00\">True</text>\n",
       "</g>\n",
       "<!-- 2 -->\n",
       "<g id=\"node3\" class=\"node\"><title>2</title>\n",
       "<polygon fill=\"none\" stroke=\"black\" points=\"257.5,-262 138.5,-262 138.5,-194 257.5,-194 257.5,-262\"/>\n",
       "<text text-anchor=\"middle\" x=\"198\" y=\"-246.8\" font-family=\"Times,serif\" font-size=\"14.00\">L &lt;= 3.1</text>\n",
       "<text text-anchor=\"middle\" x=\"198\" y=\"-231.8\" font-family=\"Times,serif\" font-size=\"14.00\">impurity = 0.642</text>\n",
       "<text text-anchor=\"middle\" x=\"198\" y=\"-216.8\" font-family=\"Times,serif\" font-size=\"14.00\">samples = 9</text>\n",
       "<text text-anchor=\"middle\" x=\"198\" y=\"-201.8\" font-family=\"Times,serif\" font-size=\"14.00\">value = [0, 4, 3, 2]</text>\n",
       "</g>\n",
       "<!-- 0&#45;&gt;2 -->\n",
       "<g id=\"edge2\" class=\"edge\"><title>0&#45;&gt;2</title>\n",
       "<path fill=\"none\" stroke=\"black\" d=\"M151.402,-297.884C157.247,-289.243 163.622,-279.819 169.728,-270.793\"/>\n",
       "<polygon fill=\"black\" stroke=\"black\" points=\"172.77,-272.543 175.474,-262.299 166.972,-268.621 172.77,-272.543\"/>\n",
       "<text text-anchor=\"middle\" x=\"180.211\" y=\"-283.146\" font-family=\"Times,serif\" font-size=\"14.00\">False</text>\n",
       "</g>\n",
       "<!-- 3 -->\n",
       "<g id=\"node4\" class=\"node\"><title>3</title>\n",
       "<polygon fill=\"none\" stroke=\"black\" points=\"188.5,-158 69.5,-158 69.5,-90 188.5,-90 188.5,-158\"/>\n",
       "<text text-anchor=\"middle\" x=\"129\" y=\"-142.8\" font-family=\"Times,serif\" font-size=\"14.00\">L &lt;= 0.895</text>\n",
       "<text text-anchor=\"middle\" x=\"129\" y=\"-127.8\" font-family=\"Times,serif\" font-size=\"14.00\">impurity = 0.4444</text>\n",
       "<text text-anchor=\"middle\" x=\"129\" y=\"-112.8\" font-family=\"Times,serif\" font-size=\"14.00\">samples = 6</text>\n",
       "<text text-anchor=\"middle\" x=\"129\" y=\"-97.8\" font-family=\"Times,serif\" font-size=\"14.00\">value = [0, 4, 0, 2]</text>\n",
       "</g>\n",
       "<!-- 2&#45;&gt;3 -->\n",
       "<g id=\"edge3\" class=\"edge\"><title>2&#45;&gt;3</title>\n",
       "<path fill=\"none\" stroke=\"black\" d=\"M175.598,-193.884C169.753,-185.243 163.378,-175.819 157.272,-166.793\"/>\n",
       "<polygon fill=\"black\" stroke=\"black\" points=\"160.028,-164.621 151.526,-158.299 154.23,-168.543 160.028,-164.621\"/>\n",
       "</g>\n",
       "<!-- 6 -->\n",
       "<g id=\"node7\" class=\"node\"><title>6</title>\n",
       "<polygon fill=\"none\" stroke=\"black\" points=\"326.5,-150.5 207.5,-150.5 207.5,-97.5 326.5,-97.5 326.5,-150.5\"/>\n",
       "<text text-anchor=\"middle\" x=\"267\" y=\"-135.3\" font-family=\"Times,serif\" font-size=\"14.00\">impurity = 0.0</text>\n",
       "<text text-anchor=\"middle\" x=\"267\" y=\"-120.3\" font-family=\"Times,serif\" font-size=\"14.00\">samples = 3</text>\n",
       "<text text-anchor=\"middle\" x=\"267\" y=\"-105.3\" font-family=\"Times,serif\" font-size=\"14.00\">value = [0, 0, 3, 0]</text>\n",
       "</g>\n",
       "<!-- 2&#45;&gt;6 -->\n",
       "<g id=\"edge6\" class=\"edge\"><title>2&#45;&gt;6</title>\n",
       "<path fill=\"none\" stroke=\"black\" d=\"M220.402,-193.884C227.991,-182.666 236.473,-170.126 244.1,-158.852\"/>\n",
       "<polygon fill=\"black\" stroke=\"black\" points=\"247.032,-160.764 249.737,-150.52 241.234,-156.842 247.032,-160.764\"/>\n",
       "</g>\n",
       "<!-- 4 -->\n",
       "<g id=\"node5\" class=\"node\"><title>4</title>\n",
       "<polygon fill=\"none\" stroke=\"black\" points=\"119.5,-53.5 0.5,-53.5 0.5,-0.5 119.5,-0.5 119.5,-53.5\"/>\n",
       "<text text-anchor=\"middle\" x=\"60\" y=\"-38.3\" font-family=\"Times,serif\" font-size=\"14.00\">impurity = 0.0</text>\n",
       "<text text-anchor=\"middle\" x=\"60\" y=\"-23.3\" font-family=\"Times,serif\" font-size=\"14.00\">samples = 2</text>\n",
       "<text text-anchor=\"middle\" x=\"60\" y=\"-8.3\" font-family=\"Times,serif\" font-size=\"14.00\">value = [0, 0, 0, 2]</text>\n",
       "</g>\n",
       "<!-- 3&#45;&gt;4 -->\n",
       "<g id=\"edge4\" class=\"edge\"><title>3&#45;&gt;4</title>\n",
       "<path fill=\"none\" stroke=\"black\" d=\"M104.867,-89.7736C98.2617,-80.6792 91.0974,-70.8152 84.4731,-61.6949\"/>\n",
       "<polygon fill=\"black\" stroke=\"black\" points=\"87.2816,-59.6057 78.573,-53.5715 81.6178,-63.7194 87.2816,-59.6057\"/>\n",
       "</g>\n",
       "<!-- 5 -->\n",
       "<g id=\"node6\" class=\"node\"><title>5</title>\n",
       "<polygon fill=\"none\" stroke=\"black\" points=\"257.5,-53.5 138.5,-53.5 138.5,-0.5 257.5,-0.5 257.5,-53.5\"/>\n",
       "<text text-anchor=\"middle\" x=\"198\" y=\"-38.3\" font-family=\"Times,serif\" font-size=\"14.00\">impurity = 0.0</text>\n",
       "<text text-anchor=\"middle\" x=\"198\" y=\"-23.3\" font-family=\"Times,serif\" font-size=\"14.00\">samples = 4</text>\n",
       "<text text-anchor=\"middle\" x=\"198\" y=\"-8.3\" font-family=\"Times,serif\" font-size=\"14.00\">value = [0, 4, 0, 0]</text>\n",
       "</g>\n",
       "<!-- 3&#45;&gt;5 -->\n",
       "<g id=\"edge5\" class=\"edge\"><title>3&#45;&gt;5</title>\n",
       "<path fill=\"none\" stroke=\"black\" d=\"M153.133,-89.7736C159.738,-80.6792 166.903,-70.8152 173.527,-61.6949\"/>\n",
       "<polygon fill=\"black\" stroke=\"black\" points=\"176.382,-63.7194 179.427,-53.5715 170.718,-59.6057 176.382,-63.7194\"/>\n",
       "</g>\n",
       "</g>\n",
       "</svg>\n"
      ],
      "text/plain": [
       "<graphviz.files.Source at 0x7fc9d7d53310>"
      ]
     },
     "execution_count": 39,
     "metadata": {},
     "output_type": "execute_result"
    }
   ],
   "source": [
    "with open(\"tree_d1.dot\") as f:\n",
    "    dot_graph = f.read()\n",
    "graphviz.Source(dot_graph)"
   ]
  },
  {
   "cell_type": "code",
   "execution_count": null,
   "metadata": {
    "collapsed": true
   },
   "outputs": [],
   "source": [
    "#Since the dataset is very small I would use bootstrap sampling and see the results of multiple trees\n",
    "#Random forests in this case can be used but will be an overkill\n",
    "#Note I have left the bootstrap part for later due to time contraints but I would want to try this since this is a small dataset\n",
    "'''from sklearn import cross_validation\n",
    "'''"
   ]
  }
 ],
 "metadata": {
  "kernelspec": {
   "display_name": "Python 2",
   "language": "python",
   "name": "python2"
  },
  "language_info": {
   "codemirror_mode": {
    "name": "ipython",
    "version": 2
   },
   "file_extension": ".py",
   "mimetype": "text/x-python",
   "name": "python",
   "nbconvert_exporter": "python",
   "pygments_lexer": "ipython2",
   "version": "2.7.6"
  }
 },
 "nbformat": 4,
 "nbformat_minor": 0
}
